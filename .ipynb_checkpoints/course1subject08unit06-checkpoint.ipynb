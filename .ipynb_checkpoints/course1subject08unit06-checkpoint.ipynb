{
 "cells": [
  {
   "cell_type": "markdown",
   "id": "fde65033-668b-4e67-9fb3-8dceb430205c",
   "metadata": {},
   "source": [
    "### Video lecture"
   ]
  },
  {
   "cell_type": "code",
   "execution_count": 1,
   "id": "f7d22c96-cdab-4f51-a96b-8a1eb8f60d64",
   "metadata": {},
   "outputs": [],
   "source": [
    "import pandas as pd\n",
    "import numpy as np\n",
    "\n",
    "import matplotlib.pyplot as plt\n",
    "%matplotlib inline"
   ]
  },
  {
   "cell_type": "code",
   "execution_count": null,
   "id": "2f54a92b-da45-4352-a8ed-62e623a833f8",
   "metadata": {},
   "outputs": [],
   "source": [
    "plt.plot([0, 1, 2, 3, 4], [0, 10, 5, 30, 30], color='magenta', linewidth=3)\n",
    "\n",
    "plt.xlim(0, 4)\n",
    "plt.ylim(0, 40)\n",
    "plt.title('An example plot')\n",
    "plt.xlabel('X-Axis')\n",
    "plt.ylabel('Y-Axis')\n",
    "\n",
    "plt.show()"
   ]
  }
 ],
 "metadata": {
  "kernelspec": {
   "display_name": "Python 3 (ipykernel)",
   "language": "python",
   "name": "python3"
  },
  "language_info": {
   "codemirror_mode": {
    "name": "ipython",
    "version": 3
   },
   "file_extension": ".py",
   "mimetype": "text/x-python",
   "name": "python",
   "nbconvert_exporter": "python",
   "pygments_lexer": "ipython3",
   "version": "3.9.7"
  }
 },
 "nbformat": 4,
 "nbformat_minor": 5
}
