{
 "cells": [
  {
   "cell_type": "markdown",
   "id": "2d81c653-083b-4c69-a847-6836bb6e4d10",
   "metadata": {},
   "source": [
    "### Solution to Exercise 10"
   ]
  },
  {
   "cell_type": "code",
   "execution_count": 1,
   "id": "f49939ef-f87b-4e8f-a1fa-e4ed5fafca1f",
   "metadata": {},
   "outputs": [],
   "source": [
    "import seaborn as sns\n",
    "import matplotlib.pyplot as plt\n",
    "%matplotlib inline"
   ]
  },
  {
   "cell_type": "code",
   "execution_count": 2,
   "id": "b1b3456c-9b2e-4933-ae89-c75279ec1588",
   "metadata": {},
   "outputs": [],
   "source": [
    "import pandas as pd\n",
    "import numpy as np"
   ]
  },
  {
   "cell_type": "code",
   "execution_count": null,
   "id": "5c50679f-1fba-4e55-afc6-bbdf5da32a73",
   "metadata": {},
   "outputs": [],
   "source": [
    "# Load Iris data\n",
    "\n",
    "iris = sns.load_dataset(\"iris\")"
   ]
  }
 ],
 "metadata": {
  "kernelspec": {
   "display_name": "Python 3 (ipykernel)",
   "language": "python",
   "name": "python3"
  },
  "language_info": {
   "codemirror_mode": {
    "name": "ipython",
    "version": 3
   },
   "file_extension": ".py",
   "mimetype": "text/x-python",
   "name": "python",
   "nbconvert_exporter": "python",
   "pygments_lexer": "ipython3",
   "version": "3.9.7"
  }
 },
 "nbformat": 4,
 "nbformat_minor": 5
}
